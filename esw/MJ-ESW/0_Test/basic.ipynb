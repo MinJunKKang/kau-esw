{
 "cells": [
  {
   "cell_type": "markdown",
   "metadata": {},
   "source": [
    "library import"
   ]
  },
  {
   "cell_type": "code",
   "execution_count": 19,
   "metadata": {},
   "outputs": [],
   "source": [
    "import time\n",
    "import random\n",
    "from colorsys import hsv_to_rgb\n",
    "import board\n",
    "from digitalio import DigitalInOut, Direction\n",
    "from PIL import Image, ImageDraw, ImageFont\n",
    "from adafruit_rgb_display import st7789\n",
    "import numpy as np"
   ]
  },
  {
   "cell_type": "markdown",
   "metadata": {},
   "source": [
    "Define Joystick"
   ]
  },
  {
   "cell_type": "code",
   "execution_count": 21,
   "metadata": {},
   "outputs": [],
   "source": [
    "class Joystick:\n",
    "    def __init__(self):\n",
    "        self.cs_pin = DigitalInOut(board.CE0)\n",
    "        self.dc_pin = DigitalInOut(board.D25)\n",
    "        self.reset_pin = DigitalInOut(board.D24)\n",
    "        self.BAUDRATE = 24000000\n",
    "\n",
    "        self.spi = board.SPI()\n",
    "        self.disp = st7789.ST7789(\n",
    "                    self.spi,\n",
    "                    height=240,\n",
    "                    y_offset=80,\n",
    "                    rotation=180,\n",
    "                    cs=self.cs_pin,\n",
    "                    dc=self.dc_pin,\n",
    "                    rst=self.reset_pin,\n",
    "                    baudrate=self.BAUDRATE,\n",
    "                    )\n",
    "\n",
    "        # Input pins:\n",
    "        self.button_A = DigitalInOut(board.D5)\n",
    "        self.button_A.direction = Direction.INPUT\n",
    "\n",
    "        self.button_B = DigitalInOut(board.D6)\n",
    "        self.button_B.direction = Direction.INPUT\n",
    "\n",
    "        self.button_L = DigitalInOut(board.D27)\n",
    "        self.button_L.direction = Direction.INPUT\n",
    "\n",
    "        self.button_R = DigitalInOut(board.D23)\n",
    "        self.button_R.direction = Direction.INPUT\n",
    "\n",
    "        self.button_U = DigitalInOut(board.D17)\n",
    "        self.button_U.direction = Direction.INPUT\n",
    "\n",
    "        self.button_D = DigitalInOut(board.D22)\n",
    "        self.button_D.direction = Direction.INPUT\n",
    "\n",
    "        self.button_C = DigitalInOut(board.D4)\n",
    "        self.button_C.direction = Direction.INPUT\n",
    "\n",
    "        # Turn on the Backlight\n",
    "        self.backlight = DigitalInOut(board.D26)\n",
    "        self.backlight.switch_to_output()\n",
    "        self.backlight.value = True\n",
    "\n",
    "        # Create blank image for drawing.\n",
    "        # Make sure to create image with mode 'RGB' for color.\n",
    "        self.width = self.disp.width\n",
    "        self.height = self.disp.height"
   ]
  },
  {
   "cell_type": "markdown",
   "metadata": {},
   "source": [
    "Define Ball"
   ]
  },
  {
   "cell_type": "code",
   "execution_count": 70,
   "metadata": {},
   "outputs": [],
   "source": [
    "class Ball:\n",
    "    def __init__(self, width, height):\n",
    "        self.appearance = 'circle'\n",
    "        self.state = None\n",
    "        self.has_jump_item = False\n",
    "        self.has_shoot_item = False\n",
    "        self.position = np.array([width/2 - 8, height/2 - 8, width/2 + 8, height/2 + 8])\n",
    "        self.speed = 5\n",
    "        self.velocity = 0\n",
    "        self.acceleration = 1\n",
    "        self.outline = \"#000000\"\n",
    "\n",
    "    def move(self, command = None):\n",
    "        self.velocity += self.acceleration\n",
    "        self.position[3] += self.velocity\n",
    "        self.position[1] += self.velocity\n",
    "\n",
    "        if (self.position[3] >= 240 and self.velocity > 0):\n",
    "            self.velocity = -10\n",
    "\n",
    "        if self.has_jump_item and not joystick.button_B.value:\n",
    "            self.velocity = -10\n",
    "            self.has_jump_item = False\n",
    "\n",
    "        if self.has_jump_item and not joystick.button_B.value:\n",
    "            self.\n",
    "\n",
    "        if command['move'] == False:\n",
    "            self.state = None\n",
    "            self.outline = \"#000000\" #검정색상 코드!\n",
    "        \n",
    "        else:\n",
    "            self.state = 'move'\n",
    "            self.outline = \"#000000\" #빨강색상 코드!\n",
    "                \n",
    "            if command['left_pressed']:\n",
    "                self.position[0] -= self.speed\n",
    "                self.position[2] -= self.speed\n",
    "                \n",
    "            if command['right_pressed']:\n",
    "                self.position[0] += self.speed\n",
    "                self.position[2] += self.speed\n",
    "\n",
    "    def collision_check(self, items):\n",
    "        for item in items:\n",
    "            collision = self.overlap(self.position, item.position)\n",
    "\n",
    "            if collision:\n",
    "                item.use(self)\n",
    "                items.remove(item)\n",
    "                    \n",
    "\n",
    "    def overlap(self, ego_position, other_position):\n",
    "        return ego_position[0] > other_position[0] and ego_position[1] > other_position[1] \\\n",
    "            and ego_position[2] < other_position[2] and ego_position[3] < other_position[3]"
   ]
  },
  {
   "cell_type": "markdown",
   "metadata": {},
   "source": [
    "Make joystick, Image, Draw Object"
   ]
  },
  {
   "cell_type": "code",
   "execution_count": 72,
   "metadata": {},
   "outputs": [],
   "source": [
    "joystick = Joystick()\n",
    "my_image = Image.new(\"RGB\", (joystick.width, joystick.height)) #도화지!\n",
    "my_draw = ImageDraw.Draw(my_image) #그리는 도구!"
   ]
  },
  {
   "cell_type": "markdown",
   "metadata": {},
   "source": [
    "Define Item"
   ]
  },
  {
   "cell_type": "code",
   "execution_count": 71,
   "metadata": {},
   "outputs": [],
   "source": [
    "class Item:\n",
    "    def __init__(self, spawn_position):\n",
    "        self.appearance = 'rectangle'\n",
    "        self.position = np.array([spawn_position[0] - 25, spawn_position[1] - 25, spawn_position[0] + 25, spawn_position[1] + 25])\n",
    "        self.outline = \"#00FF00\"\n",
    "        self.is_collected = False\n",
    "\n",
    "    def use(self, ball):\n",
    "        self.is_collected = True\n",
    "        ball.has_jump_item = True\n",
    "\n",
    "class Jump(Item):\n",
    "    pass\n",
    "\n",
    "class Shoot(Item):\n",
    "    pass"
   ]
  },
  {
   "cell_type": "code",
   "execution_count": 73,
   "metadata": {},
   "outputs": [],
   "source": [
    "my_circle = Ball(joystick.width, joystick.height)\n",
    "my_draw.rectangle((0, 0, joystick.width, joystick.height), fill=(255, 255, 255, 100))\n",
    "\n",
    "# 게임 세계에 Jump 아이템 추가\n",
    "jump_items = [Jump((200, 200)), Jump((0, 200))]  # 필요한 만큼 추가\n",
    "\n",
    "while True:\n",
    "    command = {'move': False, 'up_pressed': False, 'down_pressed': False, 'left_pressed': False, 'right_pressed': False}\n",
    "\n",
    "    if not joystick.button_L.value:  # 왼쪽 버튼이 눌린 경우\n",
    "        command['left_pressed'] = True\n",
    "        command['move'] = True\n",
    "\n",
    "    if not joystick.button_R.value:  # 오른쪽 버튼이 눌린 경우\n",
    "        command['right_pressed'] = True\n",
    "        command['move'] = True\n",
    "\n",
    "    my_circle.move(command)\n",
    "    my_circle.collision_check(jump_items)  # 아이템과의 충돌 확인 및 아이템 사용\n",
    "\n",
    "    # 그리기 로직 (순서가 중요함)\n",
    "    my_draw.rectangle((0, 0, joystick.width, joystick.height), fill=(255, 255, 255, 100))\n",
    "    my_draw.ellipse(tuple(my_circle.position), outline=my_circle.outline, fill=(255, 255, 0))\n",
    "\n",
    "    # Jump 아이템 그리기\n",
    "    for jump_item in jump_items:\n",
    "        if not jump_item.is_collected:\n",
    "            my_draw.rectangle(tuple(jump_item.position), outline=jump_item.outline, fill=None)\n",
    "\n",
    "    # Update display\n",
    "    joystick.disp.image(my_image)"
   ]
  }
 ],
 "metadata": {
  "kernelspec": {
   "display_name": "Python 3",
   "language": "python",
   "name": "python3"
  },
  "language_info": {
   "codemirror_mode": {
    "name": "ipython",
    "version": 3
   },
   "file_extension": ".py",
   "mimetype": "text/x-python",
   "name": "python",
   "nbconvert_exporter": "python",
   "pygments_lexer": "ipython3",
   "version": "3.11.2"
  }
 },
 "nbformat": 4,
 "nbformat_minor": 2
}
